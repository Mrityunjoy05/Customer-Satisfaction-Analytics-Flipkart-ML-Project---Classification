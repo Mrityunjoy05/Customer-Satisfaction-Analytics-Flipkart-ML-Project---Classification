{
  "cells": [
    {
      "cell_type": "code",
      "execution_count": null,
      "metadata": {
        "colab": {
          "base_uri": "https://localhost:8080/"
        },
        "id": "sRCGZct8We-r",
        "outputId": "81dfcce5-f12d-4fdf-bd10-7be1da47b050"
      },
      "outputs": [
        {
          "output_type": "stream",
          "name": "stdout",
          "text": [
            "Radhe Radhe\n"
          ]
        }
      ],
      "source": [
        "print('Radhe Radhe')"
      ]
    },
    {
      "cell_type": "code",
      "execution_count": null,
      "metadata": {
        "colab": {
          "base_uri": "https://localhost:8080/"
        },
        "id": "2_CNj6ThWjmM",
        "outputId": "cd5debe5-fca4-4494-b448-beea45b59f16"
      },
      "outputs": [
        {
          "output_type": "stream",
          "name": "stdout",
          "text": [
            "Collecting category_encoders\n",
            "  Downloading category_encoders-2.8.1-py3-none-any.whl.metadata (7.9 kB)\n",
            "Requirement already satisfied: numpy>=1.14.0 in /usr/local/lib/python3.12/dist-packages (from category_encoders) (2.0.2)\n",
            "Requirement already satisfied: pandas>=1.0.5 in /usr/local/lib/python3.12/dist-packages (from category_encoders) (2.2.2)\n",
            "Requirement already satisfied: patsy>=0.5.1 in /usr/local/lib/python3.12/dist-packages (from category_encoders) (1.0.1)\n",
            "Requirement already satisfied: scikit-learn>=1.6.0 in /usr/local/lib/python3.12/dist-packages (from category_encoders) (1.6.1)\n",
            "Requirement already satisfied: scipy>=1.0.0 in /usr/local/lib/python3.12/dist-packages (from category_encoders) (1.16.2)\n",
            "Requirement already satisfied: statsmodels>=0.9.0 in /usr/local/lib/python3.12/dist-packages (from category_encoders) (0.14.5)\n",
            "Requirement already satisfied: python-dateutil>=2.8.2 in /usr/local/lib/python3.12/dist-packages (from pandas>=1.0.5->category_encoders) (2.9.0.post0)\n",
            "Requirement already satisfied: pytz>=2020.1 in /usr/local/lib/python3.12/dist-packages (from pandas>=1.0.5->category_encoders) (2025.2)\n",
            "Requirement already satisfied: tzdata>=2022.7 in /usr/local/lib/python3.12/dist-packages (from pandas>=1.0.5->category_encoders) (2025.2)\n",
            "Requirement already satisfied: joblib>=1.2.0 in /usr/local/lib/python3.12/dist-packages (from scikit-learn>=1.6.0->category_encoders) (1.5.2)\n",
            "Requirement already satisfied: threadpoolctl>=3.1.0 in /usr/local/lib/python3.12/dist-packages (from scikit-learn>=1.6.0->category_encoders) (3.6.0)\n",
            "Requirement already satisfied: packaging>=21.3 in /usr/local/lib/python3.12/dist-packages (from statsmodels>=0.9.0->category_encoders) (25.0)\n",
            "Requirement already satisfied: six>=1.5 in /usr/local/lib/python3.12/dist-packages (from python-dateutil>=2.8.2->pandas>=1.0.5->category_encoders) (1.17.0)\n",
            "Downloading category_encoders-2.8.1-py3-none-any.whl (85 kB)\n",
            "\u001b[2K   \u001b[90m━━━━━━━━━━━━━━━━━━━━━━━━━━━━━━━━━━━━━━━━\u001b[0m \u001b[32m85.7/85.7 kB\u001b[0m \u001b[31m3.3 MB/s\u001b[0m eta \u001b[36m0:00:00\u001b[0m\n",
            "\u001b[?25hInstalling collected packages: category_encoders\n",
            "Successfully installed category_encoders-2.8.1\n"
          ]
        }
      ],
      "source": [
        "!pip install category_encoders"
      ]
    },
    {
      "cell_type": "code",
      "execution_count": null,
      "metadata": {
        "id": "4CFk7-J_Wmb0"
      },
      "outputs": [],
      "source": [
        "import pandas as pd\n",
        "import numpy as np\n",
        "pd.set_option('display.max_columns', None)\n",
        "\n",
        "from sklearn.model_selection import train_test_split,GridSearchCV,cross_val_score\n",
        "from xgboost import XGBClassifier\n",
        "\n",
        "from category_encoders import TargetEncoder\n",
        "from sklearn.preprocessing import LabelEncoder,StandardScaler\n",
        "\n",
        "\n",
        "from imblearn.combine import SMOTETomek\n",
        "from imblearn.under_sampling import TomekLinks,RandomUnderSampler\n",
        "from imblearn.over_sampling import SMOTE\n",
        "\n",
        "from sklearn.decomposition import PCA\n",
        "\n",
        "from sklearn.metrics import accuracy_score , f1_score , precision_score,classification_report ,make_scorer ,roc_auc_score,recall_score"
      ]
    },
    {
      "cell_type": "markdown",
      "metadata": {
        "id": "FNmtz7_gXL71"
      },
      "source": [
        "## Data Clean"
      ]
    },
    {
      "cell_type": "code",
      "execution_count": null,
      "metadata": {
        "id": "U-hCpDltWpSN"
      },
      "outputs": [],
      "source": [
        "Customer_support_data = pd.read_csv('/content/Customer_support_data.csv')"
      ]
    },
    {
      "cell_type": "code",
      "execution_count": null,
      "metadata": {
        "id": "_RrOhREsWrOp"
      },
      "outputs": [],
      "source": [
        "Customer_support_data.columns = [i.replace(\" \" , '_').replace(\"(\" , '').replace(\")\" , '') for i in Customer_support_data.columns]"
      ]
    },
    {
      "cell_type": "code",
      "execution_count": null,
      "metadata": {
        "colab": {
          "base_uri": "https://localhost:8080/"
        },
        "id": "W5lkqv9km6Ps",
        "outputId": "d56ec075-dea4-409a-b4fb-b3d6ef65a7e6"
      },
      "outputs": [
        {
          "output_type": "stream",
          "name": "stdout",
          "text": [
            "<class 'pandas.core.frame.DataFrame'>\n",
            "RangeIndex: 85907 entries, 0 to 85906\n",
            "Data columns (total 20 columns):\n",
            " #   Column                   Non-Null Count  Dtype  \n",
            "---  ------                   --------------  -----  \n",
            " 0   Unique_id                85907 non-null  object \n",
            " 1   channel_name             85907 non-null  object \n",
            " 2   category                 85907 non-null  object \n",
            " 3   Sub-category             85907 non-null  object \n",
            " 4   Customer_Remarks         28742 non-null  object \n",
            " 5   Order_id                 67675 non-null  object \n",
            " 6   order_date_time          17214 non-null  object \n",
            " 7   Issue_reported_at        85907 non-null  object \n",
            " 8   issue_responded          85907 non-null  object \n",
            " 9   Survey_response_Date     85907 non-null  object \n",
            " 10  Customer_City            17079 non-null  object \n",
            " 11  Product_category         17196 non-null  object \n",
            " 12  Item_price               17206 non-null  float64\n",
            " 13  connected_handling_time  242 non-null    float64\n",
            " 14  Agent_name               85907 non-null  object \n",
            " 15  Supervisor               85907 non-null  object \n",
            " 16  Manager                  85907 non-null  object \n",
            " 17  Tenure_Bucket            85907 non-null  object \n",
            " 18  Agent_Shift              85907 non-null  object \n",
            " 19  CSAT_Score               85907 non-null  int64  \n",
            "dtypes: float64(2), int64(1), object(17)\n",
            "memory usage: 13.1+ MB\n"
          ]
        }
      ],
      "source": [
        "Customer_support_data.info()"
      ]
    },
    {
      "cell_type": "code",
      "execution_count": null,
      "metadata": {
        "id": "nokbrD0EWs6U"
      },
      "outputs": [],
      "source": [
        "Customer_support_data.fillna(\n",
        "  {'Customer_City': 'Unknown',\n",
        "   'Product_category' : 'Unknown',\n",
        "   'order_date_time' : Customer_support_data['order_date_time'].ffill(),\n",
        "   'Item_price' : Customer_support_data['Item_price'].mean()\n",
        "\n",
        "   }, inplace = True\n",
        ")"
      ]
    },
    {
      "cell_type": "code",
      "execution_count": null,
      "metadata": {
        "id": "4K3kMyUGWuYf"
      },
      "outputs": [],
      "source": [
        "Customer_support_data.drop(columns='connected_handling_time' ,inplace =True)"
      ]
    },
    {
      "cell_type": "code",
      "execution_count": null,
      "metadata": {
        "id": "NZUZ7z-bWw61"
      },
      "outputs": [],
      "source": [
        "Customer_support_data = Customer_support_data.dropna()"
      ]
    },
    {
      "cell_type": "code",
      "execution_count": null,
      "metadata": {
        "id": "fUg5u_A8WzLE"
      },
      "outputs": [],
      "source": [
        "Customer_support_data['order_date_time']= pd.to_datetime(Customer_support_data['order_date_time'] , format= '%d/%m/%Y %H:%M')\n",
        "Customer_support_data['Issue_reported_at']= pd.to_datetime(Customer_support_data['Issue_reported_at'] , format= '%d/%m/%Y %H:%M')\n",
        "Customer_support_data['issue_responded']= pd.to_datetime(Customer_support_data['issue_responded'] , format= '%d/%m/%Y %H:%M')\n",
        "Customer_support_data['Survey_response_Date']= pd.to_datetime(Customer_support_data['Survey_response_Date'] , format= '%d-%b-%y')"
      ]
    },
    {
      "cell_type": "code",
      "execution_count": null,
      "metadata": {
        "id": "IrRSrAOvW0kl"
      },
      "outputs": [],
      "source": [
        "dataset_date = Customer_support_data.select_dtypes(include='datetime64[ns]'  ).columns.to_list()"
      ]
    },
    {
      "cell_type": "code",
      "execution_count": null,
      "metadata": {
        "id": "l3Qv2j31W2M1"
      },
      "outputs": [],
      "source": [
        "for col in dataset_date:\n",
        "    Customer_support_data[col + '_year'] = Customer_support_data[col].dt.year\n",
        "    Customer_support_data[col + '_month'] = Customer_support_data[col].dt.month\n",
        "    Customer_support_data[col + '_day'] = Customer_support_data[col].dt.day\n",
        "    Customer_support_data[col + '_month_name'] = Customer_support_data[col].dt.month_name()"
      ]
    },
    {
      "cell_type": "code",
      "execution_count": null,
      "metadata": {
        "id": "ekDxVqeOW31e"
      },
      "outputs": [],
      "source": [
        "# === 2) Feature Engineering ===\n",
        "Customer_support_data['Response_Time'] = (Customer_support_data['issue_responded'] - Customer_support_data['Issue_reported_at']).dt.total_seconds() / 3600\n",
        "Customer_support_data['Report_Delay'] = (Customer_support_data['Issue_reported_at'] - Customer_support_data['order_date_time']).dt.total_seconds() / 3600\n",
        "Customer_support_data['Agent_Workload'] = Customer_support_data.groupby('Agent_name')['Order_id'].transform('count')\n",
        "Customer_support_data['Survey_Month'] = Customer_support_data['Survey_response_Date_month']"
      ]
    },
    {
      "cell_type": "code",
      "execution_count": null,
      "metadata": {
        "id": "t9aOiE0NW51-"
      },
      "outputs": [],
      "source": [
        "Customer_support_data = Customer_support_data.drop(columns=dataset_date )"
      ]
    },
    {
      "cell_type": "code",
      "execution_count": null,
      "metadata": {
        "id": "rdz7OnPtW7RR"
      },
      "outputs": [],
      "source": [
        "df = Customer_support_data.copy()"
      ]
    },
    {
      "cell_type": "code",
      "execution_count": null,
      "metadata": {
        "colab": {
          "base_uri": "https://localhost:8080/"
        },
        "id": "96670H3oW73P",
        "outputId": "c96e69d7-edcc-4e78-a314-6172f17c896c"
      },
      "outputs": [
        {
          "output_type": "stream",
          "name": "stdout",
          "text": [
            "<class 'pandas.core.frame.DataFrame'>\n",
            "Index: 22637 entries, 11 to 85904\n",
            "Data columns (total 35 columns):\n",
            " #   Column                           Non-Null Count  Dtype  \n",
            "---  ------                           --------------  -----  \n",
            " 0   Unique_id                        22637 non-null  object \n",
            " 1   channel_name                     22637 non-null  object \n",
            " 2   category                         22637 non-null  object \n",
            " 3   Sub-category                     22637 non-null  object \n",
            " 4   Customer_Remarks                 22637 non-null  object \n",
            " 5   Order_id                         22637 non-null  object \n",
            " 6   Customer_City                    22637 non-null  object \n",
            " 7   Product_category                 22637 non-null  object \n",
            " 8   Item_price                       22637 non-null  float64\n",
            " 9   Agent_name                       22637 non-null  object \n",
            " 10  Supervisor                       22637 non-null  object \n",
            " 11  Manager                          22637 non-null  object \n",
            " 12  Tenure_Bucket                    22637 non-null  object \n",
            " 13  Agent_Shift                      22637 non-null  object \n",
            " 14  CSAT_Score                       22637 non-null  int64  \n",
            " 15  order_date_time_year             22637 non-null  int32  \n",
            " 16  order_date_time_month            22637 non-null  int32  \n",
            " 17  order_date_time_day              22637 non-null  int32  \n",
            " 18  order_date_time_month_name       22637 non-null  object \n",
            " 19  Issue_reported_at_year           22637 non-null  int32  \n",
            " 20  Issue_reported_at_month          22637 non-null  int32  \n",
            " 21  Issue_reported_at_day            22637 non-null  int32  \n",
            " 22  Issue_reported_at_month_name     22637 non-null  object \n",
            " 23  issue_responded_year             22637 non-null  int32  \n",
            " 24  issue_responded_month            22637 non-null  int32  \n",
            " 25  issue_responded_day              22637 non-null  int32  \n",
            " 26  issue_responded_month_name       22637 non-null  object \n",
            " 27  Survey_response_Date_year        22637 non-null  int32  \n",
            " 28  Survey_response_Date_month       22637 non-null  int32  \n",
            " 29  Survey_response_Date_day         22637 non-null  int32  \n",
            " 30  Survey_response_Date_month_name  22637 non-null  object \n",
            " 31  Response_Time                    22637 non-null  float64\n",
            " 32  Report_Delay                     22637 non-null  float64\n",
            " 33  Agent_Workload                   22637 non-null  int64  \n",
            " 34  Survey_Month                     22637 non-null  int32  \n",
            "dtypes: float64(3), int32(13), int64(2), object(17)\n",
            "memory usage: 5.1+ MB\n"
          ]
        }
      ],
      "source": [
        "df.info()"
      ]
    },
    {
      "cell_type": "markdown",
      "metadata": {
        "id": "U5jgvuqIXSI9"
      },
      "source": [
        "## Model"
      ]
    },
    {
      "cell_type": "markdown",
      "metadata": {
        "id": "wrDySXrbfr1R"
      },
      "source": [
        "### Encoding"
      ]
    },
    {
      "cell_type": "code",
      "execution_count": null,
      "metadata": {
        "colab": {
          "base_uri": "https://localhost:8080/"
        },
        "id": "DOcsdyx9XRiZ",
        "outputId": "3ffdbef1-7943-405d-d034-5388e66fac7e"
      },
      "outputs": [
        {
          "output_type": "stream",
          "name": "stdout",
          "text": [
            "CSAT_Score\n",
            "5    67.84\n",
            "1    19.15\n",
            "4     9.00\n",
            "3     2.61\n",
            "2     1.41\n",
            "Name: proportion, dtype: float64\n"
          ]
        }
      ],
      "source": [
        "print(df['CSAT_Score'].value_counts(normalize=True).mul(100).round(2))"
      ]
    },
    {
      "cell_type": "code",
      "execution_count": null,
      "metadata": {
        "id": "OoqMWzWoXYNc"
      },
      "outputs": [],
      "source": [
        "# === 4) Drop obvious ID columns & set-up target ===\n",
        "drop_ids = [c for c in ['Unique_id', 'Order_id'] if c in df.columns]\n",
        "df = df.drop(columns=drop_ids)"
      ]
    },
    {
      "cell_type": "code",
      "execution_count": null,
      "metadata": {
        "id": "DT17Np0CXeJ5"
      },
      "outputs": [],
      "source": [
        "# Encode target as 0..K-1 to be safe with sklearn/xgboost wrappers\n",
        "le = LabelEncoder()\n",
        "df['_y'] = le.fit_transform(df['CSAT_Score'])   # original labels (1..5) mapped to 0..4"
      ]
    },
    {
      "cell_type": "code",
      "execution_count": null,
      "metadata": {
        "id": "kX28PlNKXgBN"
      },
      "outputs": [],
      "source": [
        "# === 5) Define X, y and train/test split (stratified) ===\n",
        "X = df.drop(columns=['CSAT_Score', '_y'])\n",
        "y = df['_y']   # integer labels 0..4"
      ]
    },
    {
      "cell_type": "code",
      "execution_count": null,
      "metadata": {
        "colab": {
          "base_uri": "https://localhost:8080/"
        },
        "id": "_vvNTezpXjCd",
        "outputId": "f97c52e1-baca-40a2-c27f-2a4b7d471daf"
      },
      "outputs": [
        {
          "output_type": "stream",
          "name": "stdout",
          "text": [
            "Constant columns removed: ['Issue_reported_at_year', 'issue_responded_year', 'issue_responded_month', 'issue_responded_month_name', 'Survey_response_Date_year', 'Survey_response_Date_month', 'Survey_response_Date_month_name', 'Survey_Month']\n"
          ]
        }
      ],
      "source": [
        "# === 4) Remove constant columns ===\n",
        "constant_cols = [col for col in X.columns if X[col].nunique() == 1]\n",
        "print(\"Constant columns removed:\", constant_cols)\n",
        "X = X.drop(columns=constant_cols)"
      ]
    },
    {
      "cell_type": "code",
      "execution_count": null,
      "metadata": {
        "colab": {
          "base_uri": "https://localhost:8080/"
        },
        "id": "U-V4ffG3Xned",
        "outputId": "3ef855cb-8afb-471b-aca3-d8fd5ae0eb78"
      },
      "outputs": [
        {
          "output_type": "stream",
          "name": "stdout",
          "text": [
            "Categorical Columns: ['channel_name', 'category', 'Sub-category', 'Customer_Remarks', 'Customer_City', 'Product_category', 'Agent_name', 'Supervisor', 'Manager', 'Tenure_Bucket', 'Agent_Shift', 'order_date_time_month_name', 'Issue_reported_at_month_name']\n",
            "High-cardinality: ['Sub-category', 'Customer_Remarks', 'Customer_City', 'Agent_name', 'Supervisor']\n",
            "Low-cardinality: ['channel_name', 'category', 'Product_category', 'Manager', 'Tenure_Bucket', 'Agent_Shift', 'order_date_time_month_name', 'Issue_reported_at_month_name']\n"
          ]
        }
      ],
      "source": [
        "cat_cols = X.select_dtypes(include=['object']).columns.tolist()\n",
        "print(\"Categorical Columns:\", cat_cols)\n",
        "\n",
        "# === 3) Split categorical into high-cardinality & low-cardinality ===\n",
        "high_card_cols = [col for col in cat_cols if X[col].nunique() > 20]   # threshold = 20\n",
        "low_card_cols  = [col for col in cat_cols if X[col].nunique() <= 20]\n",
        "\n",
        "print(\"High-cardinality:\", high_card_cols)\n",
        "print(\"Low-cardinality:\", low_card_cols)"
      ]
    },
    {
      "cell_type": "code",
      "execution_count": null,
      "metadata": {
        "id": "7PMKU802XqLV"
      },
      "outputs": [],
      "source": [
        "X_encoded = X.copy()\n",
        "\n",
        "# Target Encoding for high-cardinality cols\n",
        "if high_card_cols:\n",
        "    te = TargetEncoder(cols=high_card_cols)\n",
        "    X_encoded[high_card_cols] = te.fit_transform(X[high_card_cols], y)\n",
        "\n",
        "# Label Encoding for low-cardinality cols\n",
        "if low_card_cols:\n",
        "    le = LabelEncoder()\n",
        "    for col in low_card_cols:\n",
        "        X_encoded[col] = le.fit_transform(X[col])"
      ]
    },
    {
      "cell_type": "markdown",
      "metadata": {
        "id": "THiIYHP3fyPV"
      },
      "source": [
        "### Train"
      ]
    },
    {
      "cell_type": "code",
      "execution_count": null,
      "metadata": {
        "id": "DeCadvpUXu_A"
      },
      "outputs": [],
      "source": [
        "X_train, X_test, y_train, y_test = train_test_split(\n",
        "    X_encoded, y, test_size=0.20, stratify=y, random_state=42\n",
        ")"
      ]
    },
    {
      "cell_type": "code",
      "execution_count": null,
      "metadata": {
        "colab": {
          "base_uri": "https://localhost:8080/",
          "height": 272
        },
        "id": "2ZIUYJ4nfKqt",
        "outputId": "55014591-82c6-433d-985d-c6f0fd08355b"
      },
      "outputs": [
        {
          "output_type": "execute_result",
          "data": {
            "text/plain": [
              "_y\n",
              "4    12284\n",
              "0     3467\n",
              "3     1630\n",
              "2      472\n",
              "1      256\n",
              "Name: count, dtype: int64"
            ],
            "text/html": [
              "<div>\n",
              "<style scoped>\n",
              "    .dataframe tbody tr th:only-of-type {\n",
              "        vertical-align: middle;\n",
              "    }\n",
              "\n",
              "    .dataframe tbody tr th {\n",
              "        vertical-align: top;\n",
              "    }\n",
              "\n",
              "    .dataframe thead th {\n",
              "        text-align: right;\n",
              "    }\n",
              "</style>\n",
              "<table border=\"1\" class=\"dataframe\">\n",
              "  <thead>\n",
              "    <tr style=\"text-align: right;\">\n",
              "      <th></th>\n",
              "      <th>count</th>\n",
              "    </tr>\n",
              "    <tr>\n",
              "      <th>_y</th>\n",
              "      <th></th>\n",
              "    </tr>\n",
              "  </thead>\n",
              "  <tbody>\n",
              "    <tr>\n",
              "      <th>4</th>\n",
              "      <td>12284</td>\n",
              "    </tr>\n",
              "    <tr>\n",
              "      <th>0</th>\n",
              "      <td>3467</td>\n",
              "    </tr>\n",
              "    <tr>\n",
              "      <th>3</th>\n",
              "      <td>1630</td>\n",
              "    </tr>\n",
              "    <tr>\n",
              "      <th>2</th>\n",
              "      <td>472</td>\n",
              "    </tr>\n",
              "    <tr>\n",
              "      <th>1</th>\n",
              "      <td>256</td>\n",
              "    </tr>\n",
              "  </tbody>\n",
              "</table>\n",
              "</div><br><label><b>dtype:</b> int64</label>"
            ]
          },
          "metadata": {},
          "execution_count": 25
        }
      ],
      "source": [
        "y_train.value_counts()"
      ]
    },
    {
      "cell_type": "code",
      "execution_count": null,
      "metadata": {
        "id": "tzeIFYpOZR6-"
      },
      "outputs": [],
      "source": [
        "# tl = TomekLinks(sampling_strategy='majority')\n",
        "# X_train_res, y_train_res = tl.fit_resample(X_train, y_train)"
      ]
    },
    {
      "cell_type": "code",
      "execution_count": null,
      "metadata": {
        "id": "kHSxlLxtaTwe"
      },
      "outputs": [],
      "source": [
        "# === 5) SMOTETomek Resampling (train only) ===\n",
        "# smote_tomek = SMOTETomek(sampling_strategy='auto', random_state=42)\n",
        "\n",
        "# X_train_res, y_train_res = smote_tomek.fit_resample(X_train, y_train)"
      ]
    },
    {
      "cell_type": "code",
      "execution_count": null,
      "metadata": {
        "id": "Q9bEYekKkHPJ"
      },
      "outputs": [],
      "source": []
    },
    {
      "cell_type": "code",
      "execution_count": null,
      "metadata": {
        "id": "ufEWGOFvkDVK"
      },
      "outputs": [],
      "source": [
        "sm = SMOTE(random_state=42)\n",
        "X_train_res, y_train_res = sm.fit_resample(X_train, y_train)"
      ]
    },
    {
      "cell_type": "code",
      "execution_count": null,
      "metadata": {
        "id": "xXo75czGkHg8"
      },
      "outputs": [],
      "source": []
    },
    {
      "cell_type": "code",
      "execution_count": null,
      "metadata": {
        "colab": {
          "base_uri": "https://localhost:8080/"
        },
        "id": "RGx_AlpqX3hC",
        "outputId": "9576393a-97c2-4e7e-8273-5731676b8ffd"
      },
      "outputs": [
        {
          "output_type": "stream",
          "name": "stdout",
          "text": [
            "NaN in X_train_res: 0\n",
            "NaN in y_train_res: 0\n",
            "Inf in X_train_res: 0\n"
          ]
        }
      ],
      "source": [
        "print(\"NaN in X_train_res:\", X_train_res.isna().sum().sum())\n",
        "print(\"NaN in y_train_res:\", pd.Series(y_train_res).isna().sum())\n",
        "print(\"Inf in X_train_res:\", np.isinf(X_train_res).sum().sum())"
      ]
    },
    {
      "cell_type": "code",
      "execution_count": null,
      "metadata": {
        "colab": {
          "base_uri": "https://localhost:8080/",
          "height": 254
        },
        "id": "MbQylK9uYK8V",
        "outputId": "5370cca8-1698-449b-a342-e3b5be656ae9"
      },
      "outputs": [
        {
          "output_type": "execute_result",
          "data": {
            "text/plain": [
              "XGBClassifier(base_score=None, booster=None, callbacks=None,\n",
              "              colsample_bylevel=None, colsample_bynode=None,\n",
              "              colsample_bytree=1.0, device=None, early_stopping_rounds=None,\n",
              "              enable_categorical=False, eval_metric='mlogloss',\n",
              "              feature_types=None, feature_weights=None, gamma=None,\n",
              "              grow_policy=None, importance_type=None,\n",
              "              interaction_constraints=None, learning_rate=0.1, max_bin=None,\n",
              "              max_cat_threshold=None, max_cat_to_onehot=None,\n",
              "              max_delta_step=None, max_depth=7, max_leaves=None,\n",
              "              min_child_weight=1, missing=nan, monotone_constraints=None,\n",
              "              multi_strategy=None, n_estimators=700, n_jobs=None, num_class=5, ...)"
            ],
            "text/html": [
              "<style>#sk-container-id-1 {\n",
              "  /* Definition of color scheme common for light and dark mode */\n",
              "  --sklearn-color-text: #000;\n",
              "  --sklearn-color-text-muted: #666;\n",
              "  --sklearn-color-line: gray;\n",
              "  /* Definition of color scheme for unfitted estimators */\n",
              "  --sklearn-color-unfitted-level-0: #fff5e6;\n",
              "  --sklearn-color-unfitted-level-1: #f6e4d2;\n",
              "  --sklearn-color-unfitted-level-2: #ffe0b3;\n",
              "  --sklearn-color-unfitted-level-3: chocolate;\n",
              "  /* Definition of color scheme for fitted estimators */\n",
              "  --sklearn-color-fitted-level-0: #f0f8ff;\n",
              "  --sklearn-color-fitted-level-1: #d4ebff;\n",
              "  --sklearn-color-fitted-level-2: #b3dbfd;\n",
              "  --sklearn-color-fitted-level-3: cornflowerblue;\n",
              "\n",
              "  /* Specific color for light theme */\n",
              "  --sklearn-color-text-on-default-background: var(--sg-text-color, var(--theme-code-foreground, var(--jp-content-font-color1, black)));\n",
              "  --sklearn-color-background: var(--sg-background-color, var(--theme-background, var(--jp-layout-color0, white)));\n",
              "  --sklearn-color-border-box: var(--sg-text-color, var(--theme-code-foreground, var(--jp-content-font-color1, black)));\n",
              "  --sklearn-color-icon: #696969;\n",
              "\n",
              "  @media (prefers-color-scheme: dark) {\n",
              "    /* Redefinition of color scheme for dark theme */\n",
              "    --sklearn-color-text-on-default-background: var(--sg-text-color, var(--theme-code-foreground, var(--jp-content-font-color1, white)));\n",
              "    --sklearn-color-background: var(--sg-background-color, var(--theme-background, var(--jp-layout-color0, #111)));\n",
              "    --sklearn-color-border-box: var(--sg-text-color, var(--theme-code-foreground, var(--jp-content-font-color1, white)));\n",
              "    --sklearn-color-icon: #878787;\n",
              "  }\n",
              "}\n",
              "\n",
              "#sk-container-id-1 {\n",
              "  color: var(--sklearn-color-text);\n",
              "}\n",
              "\n",
              "#sk-container-id-1 pre {\n",
              "  padding: 0;\n",
              "}\n",
              "\n",
              "#sk-container-id-1 input.sk-hidden--visually {\n",
              "  border: 0;\n",
              "  clip: rect(1px 1px 1px 1px);\n",
              "  clip: rect(1px, 1px, 1px, 1px);\n",
              "  height: 1px;\n",
              "  margin: -1px;\n",
              "  overflow: hidden;\n",
              "  padding: 0;\n",
              "  position: absolute;\n",
              "  width: 1px;\n",
              "}\n",
              "\n",
              "#sk-container-id-1 div.sk-dashed-wrapped {\n",
              "  border: 1px dashed var(--sklearn-color-line);\n",
              "  margin: 0 0.4em 0.5em 0.4em;\n",
              "  box-sizing: border-box;\n",
              "  padding-bottom: 0.4em;\n",
              "  background-color: var(--sklearn-color-background);\n",
              "}\n",
              "\n",
              "#sk-container-id-1 div.sk-container {\n",
              "  /* jupyter's `normalize.less` sets `[hidden] { display: none; }`\n",
              "     but bootstrap.min.css set `[hidden] { display: none !important; }`\n",
              "     so we also need the `!important` here to be able to override the\n",
              "     default hidden behavior on the sphinx rendered scikit-learn.org.\n",
              "     See: https://github.com/scikit-learn/scikit-learn/issues/21755 */\n",
              "  display: inline-block !important;\n",
              "  position: relative;\n",
              "}\n",
              "\n",
              "#sk-container-id-1 div.sk-text-repr-fallback {\n",
              "  display: none;\n",
              "}\n",
              "\n",
              "div.sk-parallel-item,\n",
              "div.sk-serial,\n",
              "div.sk-item {\n",
              "  /* draw centered vertical line to link estimators */\n",
              "  background-image: linear-gradient(var(--sklearn-color-text-on-default-background), var(--sklearn-color-text-on-default-background));\n",
              "  background-size: 2px 100%;\n",
              "  background-repeat: no-repeat;\n",
              "  background-position: center center;\n",
              "}\n",
              "\n",
              "/* Parallel-specific style estimator block */\n",
              "\n",
              "#sk-container-id-1 div.sk-parallel-item::after {\n",
              "  content: \"\";\n",
              "  width: 100%;\n",
              "  border-bottom: 2px solid var(--sklearn-color-text-on-default-background);\n",
              "  flex-grow: 1;\n",
              "}\n",
              "\n",
              "#sk-container-id-1 div.sk-parallel {\n",
              "  display: flex;\n",
              "  align-items: stretch;\n",
              "  justify-content: center;\n",
              "  background-color: var(--sklearn-color-background);\n",
              "  position: relative;\n",
              "}\n",
              "\n",
              "#sk-container-id-1 div.sk-parallel-item {\n",
              "  display: flex;\n",
              "  flex-direction: column;\n",
              "}\n",
              "\n",
              "#sk-container-id-1 div.sk-parallel-item:first-child::after {\n",
              "  align-self: flex-end;\n",
              "  width: 50%;\n",
              "}\n",
              "\n",
              "#sk-container-id-1 div.sk-parallel-item:last-child::after {\n",
              "  align-self: flex-start;\n",
              "  width: 50%;\n",
              "}\n",
              "\n",
              "#sk-container-id-1 div.sk-parallel-item:only-child::after {\n",
              "  width: 0;\n",
              "}\n",
              "\n",
              "/* Serial-specific style estimator block */\n",
              "\n",
              "#sk-container-id-1 div.sk-serial {\n",
              "  display: flex;\n",
              "  flex-direction: column;\n",
              "  align-items: center;\n",
              "  background-color: var(--sklearn-color-background);\n",
              "  padding-right: 1em;\n",
              "  padding-left: 1em;\n",
              "}\n",
              "\n",
              "\n",
              "/* Toggleable style: style used for estimator/Pipeline/ColumnTransformer box that is\n",
              "clickable and can be expanded/collapsed.\n",
              "- Pipeline and ColumnTransformer use this feature and define the default style\n",
              "- Estimators will overwrite some part of the style using the `sk-estimator` class\n",
              "*/\n",
              "\n",
              "/* Pipeline and ColumnTransformer style (default) */\n",
              "\n",
              "#sk-container-id-1 div.sk-toggleable {\n",
              "  /* Default theme specific background. It is overwritten whether we have a\n",
              "  specific estimator or a Pipeline/ColumnTransformer */\n",
              "  background-color: var(--sklearn-color-background);\n",
              "}\n",
              "\n",
              "/* Toggleable label */\n",
              "#sk-container-id-1 label.sk-toggleable__label {\n",
              "  cursor: pointer;\n",
              "  display: flex;\n",
              "  width: 100%;\n",
              "  margin-bottom: 0;\n",
              "  padding: 0.5em;\n",
              "  box-sizing: border-box;\n",
              "  text-align: center;\n",
              "  align-items: start;\n",
              "  justify-content: space-between;\n",
              "  gap: 0.5em;\n",
              "}\n",
              "\n",
              "#sk-container-id-1 label.sk-toggleable__label .caption {\n",
              "  font-size: 0.6rem;\n",
              "  font-weight: lighter;\n",
              "  color: var(--sklearn-color-text-muted);\n",
              "}\n",
              "\n",
              "#sk-container-id-1 label.sk-toggleable__label-arrow:before {\n",
              "  /* Arrow on the left of the label */\n",
              "  content: \"▸\";\n",
              "  float: left;\n",
              "  margin-right: 0.25em;\n",
              "  color: var(--sklearn-color-icon);\n",
              "}\n",
              "\n",
              "#sk-container-id-1 label.sk-toggleable__label-arrow:hover:before {\n",
              "  color: var(--sklearn-color-text);\n",
              "}\n",
              "\n",
              "/* Toggleable content - dropdown */\n",
              "\n",
              "#sk-container-id-1 div.sk-toggleable__content {\n",
              "  max-height: 0;\n",
              "  max-width: 0;\n",
              "  overflow: hidden;\n",
              "  text-align: left;\n",
              "  /* unfitted */\n",
              "  background-color: var(--sklearn-color-unfitted-level-0);\n",
              "}\n",
              "\n",
              "#sk-container-id-1 div.sk-toggleable__content.fitted {\n",
              "  /* fitted */\n",
              "  background-color: var(--sklearn-color-fitted-level-0);\n",
              "}\n",
              "\n",
              "#sk-container-id-1 div.sk-toggleable__content pre {\n",
              "  margin: 0.2em;\n",
              "  border-radius: 0.25em;\n",
              "  color: var(--sklearn-color-text);\n",
              "  /* unfitted */\n",
              "  background-color: var(--sklearn-color-unfitted-level-0);\n",
              "}\n",
              "\n",
              "#sk-container-id-1 div.sk-toggleable__content.fitted pre {\n",
              "  /* unfitted */\n",
              "  background-color: var(--sklearn-color-fitted-level-0);\n",
              "}\n",
              "\n",
              "#sk-container-id-1 input.sk-toggleable__control:checked~div.sk-toggleable__content {\n",
              "  /* Expand drop-down */\n",
              "  max-height: 200px;\n",
              "  max-width: 100%;\n",
              "  overflow: auto;\n",
              "}\n",
              "\n",
              "#sk-container-id-1 input.sk-toggleable__control:checked~label.sk-toggleable__label-arrow:before {\n",
              "  content: \"▾\";\n",
              "}\n",
              "\n",
              "/* Pipeline/ColumnTransformer-specific style */\n",
              "\n",
              "#sk-container-id-1 div.sk-label input.sk-toggleable__control:checked~label.sk-toggleable__label {\n",
              "  color: var(--sklearn-color-text);\n",
              "  background-color: var(--sklearn-color-unfitted-level-2);\n",
              "}\n",
              "\n",
              "#sk-container-id-1 div.sk-label.fitted input.sk-toggleable__control:checked~label.sk-toggleable__label {\n",
              "  background-color: var(--sklearn-color-fitted-level-2);\n",
              "}\n",
              "\n",
              "/* Estimator-specific style */\n",
              "\n",
              "/* Colorize estimator box */\n",
              "#sk-container-id-1 div.sk-estimator input.sk-toggleable__control:checked~label.sk-toggleable__label {\n",
              "  /* unfitted */\n",
              "  background-color: var(--sklearn-color-unfitted-level-2);\n",
              "}\n",
              "\n",
              "#sk-container-id-1 div.sk-estimator.fitted input.sk-toggleable__control:checked~label.sk-toggleable__label {\n",
              "  /* fitted */\n",
              "  background-color: var(--sklearn-color-fitted-level-2);\n",
              "}\n",
              "\n",
              "#sk-container-id-1 div.sk-label label.sk-toggleable__label,\n",
              "#sk-container-id-1 div.sk-label label {\n",
              "  /* The background is the default theme color */\n",
              "  color: var(--sklearn-color-text-on-default-background);\n",
              "}\n",
              "\n",
              "/* On hover, darken the color of the background */\n",
              "#sk-container-id-1 div.sk-label:hover label.sk-toggleable__label {\n",
              "  color: var(--sklearn-color-text);\n",
              "  background-color: var(--sklearn-color-unfitted-level-2);\n",
              "}\n",
              "\n",
              "/* Label box, darken color on hover, fitted */\n",
              "#sk-container-id-1 div.sk-label.fitted:hover label.sk-toggleable__label.fitted {\n",
              "  color: var(--sklearn-color-text);\n",
              "  background-color: var(--sklearn-color-fitted-level-2);\n",
              "}\n",
              "\n",
              "/* Estimator label */\n",
              "\n",
              "#sk-container-id-1 div.sk-label label {\n",
              "  font-family: monospace;\n",
              "  font-weight: bold;\n",
              "  display: inline-block;\n",
              "  line-height: 1.2em;\n",
              "}\n",
              "\n",
              "#sk-container-id-1 div.sk-label-container {\n",
              "  text-align: center;\n",
              "}\n",
              "\n",
              "/* Estimator-specific */\n",
              "#sk-container-id-1 div.sk-estimator {\n",
              "  font-family: monospace;\n",
              "  border: 1px dotted var(--sklearn-color-border-box);\n",
              "  border-radius: 0.25em;\n",
              "  box-sizing: border-box;\n",
              "  margin-bottom: 0.5em;\n",
              "  /* unfitted */\n",
              "  background-color: var(--sklearn-color-unfitted-level-0);\n",
              "}\n",
              "\n",
              "#sk-container-id-1 div.sk-estimator.fitted {\n",
              "  /* fitted */\n",
              "  background-color: var(--sklearn-color-fitted-level-0);\n",
              "}\n",
              "\n",
              "/* on hover */\n",
              "#sk-container-id-1 div.sk-estimator:hover {\n",
              "  /* unfitted */\n",
              "  background-color: var(--sklearn-color-unfitted-level-2);\n",
              "}\n",
              "\n",
              "#sk-container-id-1 div.sk-estimator.fitted:hover {\n",
              "  /* fitted */\n",
              "  background-color: var(--sklearn-color-fitted-level-2);\n",
              "}\n",
              "\n",
              "/* Specification for estimator info (e.g. \"i\" and \"?\") */\n",
              "\n",
              "/* Common style for \"i\" and \"?\" */\n",
              "\n",
              ".sk-estimator-doc-link,\n",
              "a:link.sk-estimator-doc-link,\n",
              "a:visited.sk-estimator-doc-link {\n",
              "  float: right;\n",
              "  font-size: smaller;\n",
              "  line-height: 1em;\n",
              "  font-family: monospace;\n",
              "  background-color: var(--sklearn-color-background);\n",
              "  border-radius: 1em;\n",
              "  height: 1em;\n",
              "  width: 1em;\n",
              "  text-decoration: none !important;\n",
              "  margin-left: 0.5em;\n",
              "  text-align: center;\n",
              "  /* unfitted */\n",
              "  border: var(--sklearn-color-unfitted-level-1) 1pt solid;\n",
              "  color: var(--sklearn-color-unfitted-level-1);\n",
              "}\n",
              "\n",
              ".sk-estimator-doc-link.fitted,\n",
              "a:link.sk-estimator-doc-link.fitted,\n",
              "a:visited.sk-estimator-doc-link.fitted {\n",
              "  /* fitted */\n",
              "  border: var(--sklearn-color-fitted-level-1) 1pt solid;\n",
              "  color: var(--sklearn-color-fitted-level-1);\n",
              "}\n",
              "\n",
              "/* On hover */\n",
              "div.sk-estimator:hover .sk-estimator-doc-link:hover,\n",
              ".sk-estimator-doc-link:hover,\n",
              "div.sk-label-container:hover .sk-estimator-doc-link:hover,\n",
              ".sk-estimator-doc-link:hover {\n",
              "  /* unfitted */\n",
              "  background-color: var(--sklearn-color-unfitted-level-3);\n",
              "  color: var(--sklearn-color-background);\n",
              "  text-decoration: none;\n",
              "}\n",
              "\n",
              "div.sk-estimator.fitted:hover .sk-estimator-doc-link.fitted:hover,\n",
              ".sk-estimator-doc-link.fitted:hover,\n",
              "div.sk-label-container:hover .sk-estimator-doc-link.fitted:hover,\n",
              ".sk-estimator-doc-link.fitted:hover {\n",
              "  /* fitted */\n",
              "  background-color: var(--sklearn-color-fitted-level-3);\n",
              "  color: var(--sklearn-color-background);\n",
              "  text-decoration: none;\n",
              "}\n",
              "\n",
              "/* Span, style for the box shown on hovering the info icon */\n",
              ".sk-estimator-doc-link span {\n",
              "  display: none;\n",
              "  z-index: 9999;\n",
              "  position: relative;\n",
              "  font-weight: normal;\n",
              "  right: .2ex;\n",
              "  padding: .5ex;\n",
              "  margin: .5ex;\n",
              "  width: min-content;\n",
              "  min-width: 20ex;\n",
              "  max-width: 50ex;\n",
              "  color: var(--sklearn-color-text);\n",
              "  box-shadow: 2pt 2pt 4pt #999;\n",
              "  /* unfitted */\n",
              "  background: var(--sklearn-color-unfitted-level-0);\n",
              "  border: .5pt solid var(--sklearn-color-unfitted-level-3);\n",
              "}\n",
              "\n",
              ".sk-estimator-doc-link.fitted span {\n",
              "  /* fitted */\n",
              "  background: var(--sklearn-color-fitted-level-0);\n",
              "  border: var(--sklearn-color-fitted-level-3);\n",
              "}\n",
              "\n",
              ".sk-estimator-doc-link:hover span {\n",
              "  display: block;\n",
              "}\n",
              "\n",
              "/* \"?\"-specific style due to the `<a>` HTML tag */\n",
              "\n",
              "#sk-container-id-1 a.estimator_doc_link {\n",
              "  float: right;\n",
              "  font-size: 1rem;\n",
              "  line-height: 1em;\n",
              "  font-family: monospace;\n",
              "  background-color: var(--sklearn-color-background);\n",
              "  border-radius: 1rem;\n",
              "  height: 1rem;\n",
              "  width: 1rem;\n",
              "  text-decoration: none;\n",
              "  /* unfitted */\n",
              "  color: var(--sklearn-color-unfitted-level-1);\n",
              "  border: var(--sklearn-color-unfitted-level-1) 1pt solid;\n",
              "}\n",
              "\n",
              "#sk-container-id-1 a.estimator_doc_link.fitted {\n",
              "  /* fitted */\n",
              "  border: var(--sklearn-color-fitted-level-1) 1pt solid;\n",
              "  color: var(--sklearn-color-fitted-level-1);\n",
              "}\n",
              "\n",
              "/* On hover */\n",
              "#sk-container-id-1 a.estimator_doc_link:hover {\n",
              "  /* unfitted */\n",
              "  background-color: var(--sklearn-color-unfitted-level-3);\n",
              "  color: var(--sklearn-color-background);\n",
              "  text-decoration: none;\n",
              "}\n",
              "\n",
              "#sk-container-id-1 a.estimator_doc_link.fitted:hover {\n",
              "  /* fitted */\n",
              "  background-color: var(--sklearn-color-fitted-level-3);\n",
              "}\n",
              "</style><div id=\"sk-container-id-1\" class=\"sk-top-container\"><div class=\"sk-text-repr-fallback\"><pre>XGBClassifier(base_score=None, booster=None, callbacks=None,\n",
              "              colsample_bylevel=None, colsample_bynode=None,\n",
              "              colsample_bytree=1.0, device=None, early_stopping_rounds=None,\n",
              "              enable_categorical=False, eval_metric=&#x27;mlogloss&#x27;,\n",
              "              feature_types=None, feature_weights=None, gamma=None,\n",
              "              grow_policy=None, importance_type=None,\n",
              "              interaction_constraints=None, learning_rate=0.1, max_bin=None,\n",
              "              max_cat_threshold=None, max_cat_to_onehot=None,\n",
              "              max_delta_step=None, max_depth=7, max_leaves=None,\n",
              "              min_child_weight=1, missing=nan, monotone_constraints=None,\n",
              "              multi_strategy=None, n_estimators=700, n_jobs=None, num_class=5, ...)</pre><b>In a Jupyter environment, please rerun this cell to show the HTML representation or trust the notebook. <br />On GitHub, the HTML representation is unable to render, please try loading this page with nbviewer.org.</b></div><div class=\"sk-container\" hidden><div class=\"sk-item\"><div class=\"sk-estimator fitted sk-toggleable\"><input class=\"sk-toggleable__control sk-hidden--visually\" id=\"sk-estimator-id-1\" type=\"checkbox\" checked><label for=\"sk-estimator-id-1\" class=\"sk-toggleable__label fitted sk-toggleable__label-arrow\"><div><div>XGBClassifier</div></div><div><a class=\"sk-estimator-doc-link fitted\" rel=\"noreferrer\" target=\"_blank\" href=\"https://xgboost.readthedocs.io/en/release_3.0.0/python/python_api.html#xgboost.XGBClassifier\">?<span>Documentation for XGBClassifier</span></a><span class=\"sk-estimator-doc-link fitted\">i<span>Fitted</span></span></div></label><div class=\"sk-toggleable__content fitted\"><pre>XGBClassifier(base_score=None, booster=None, callbacks=None,\n",
              "              colsample_bylevel=None, colsample_bynode=None,\n",
              "              colsample_bytree=1.0, device=None, early_stopping_rounds=None,\n",
              "              enable_categorical=False, eval_metric=&#x27;mlogloss&#x27;,\n",
              "              feature_types=None, feature_weights=None, gamma=None,\n",
              "              grow_policy=None, importance_type=None,\n",
              "              interaction_constraints=None, learning_rate=0.1, max_bin=None,\n",
              "              max_cat_threshold=None, max_cat_to_onehot=None,\n",
              "              max_delta_step=None, max_depth=7, max_leaves=None,\n",
              "              min_child_weight=1, missing=nan, monotone_constraints=None,\n",
              "              multi_strategy=None, n_estimators=700, n_jobs=None, num_class=5, ...)</pre></div> </div></div></div></div>"
            ]
          },
          "metadata": {},
          "execution_count": 28
        }
      ],
      "source": [
        "# === 1) Initialize XGBoost Classifier ===\n",
        "xgb_model = XGBClassifier(\n",
        "    objective='multi:softprob',   # multi-class classification\n",
        "    num_class=5,                 # since _y has 5 classes (0..4)\n",
        "    eval_metric='mlogloss',\n",
        "    random_state=42,\n",
        "    n_estimators=700,\n",
        "    learning_rate=0.1,\n",
        "    colsample_bytree = 1.0,\n",
        "    max_depth=7,\n",
        "    reg_alpha=0.01,\n",
        "    reg_lambda=1.5,\n",
        "    subsample=0.8,\n",
        "    min_child_weight = 1\n",
        ")\n",
        "\n",
        "# === 2) Train the model ===\n",
        "xgb_model.fit(X_train_res, y_train_res)"
      ]
    },
    {
      "cell_type": "code",
      "execution_count": null,
      "metadata": {
        "colab": {
          "base_uri": "https://localhost:8080/"
        },
        "id": "71Wk_4j7YP8W",
        "outputId": "e7b96162-15f3-4461-f24e-53bb8fedd6a2"
      },
      "outputs": [
        {
          "output_type": "stream",
          "name": "stdout",
          "text": [
            "XGBoost Classification Metrics:\n",
            "Accuracy : 0.9329\n",
            "F1 Score : 0.9293\n",
            "Precision: 0.9304\n",
            "Recall: 0.9329\n"
          ]
        }
      ],
      "source": [
        "# === 3) Make predictions ===\n",
        "y_pred = xgb_model.predict(X_test)\n",
        "\n",
        "# === 4) Evaluate the model ===\n",
        "accuracy = accuracy_score(y_test, y_pred)\n",
        "f1 = f1_score(y_test, y_pred, average='weighted')\n",
        "precision = precision_score(y_test, y_pred, average='weighted')\n",
        "recall = recall_score(y_test, y_pred, average='weighted')\n",
        "\n",
        "print(\"XGBoost Classification Metrics:\")\n",
        "print(f\"Accuracy : {accuracy:.4f}\")\n",
        "print(f\"F1 Score : {f1:.4f}\")\n",
        "print(f\"Precision: {precision:.4f}\")\n",
        "print(f\"Recall: {recall:.4f}\")"
      ]
    },
    {
      "cell_type": "code",
      "execution_count": null,
      "metadata": {
        "id": "eHDR1qRXbnEu",
        "colab": {
          "base_uri": "https://localhost:8080/"
        },
        "outputId": "7cd2a2c4-f08f-4cc0-f702-6cde6f818f02"
      },
      "outputs": [
        {
          "output_type": "stream",
          "name": "stdout",
          "text": [
            "Weighted Multi-class ROC-AUC: 0.9695\n"
          ]
        }
      ],
      "source": [
        "# # 2) Predict probabilities for test set\n",
        "y_proba = xgb_model.predict_proba(X_test)  # shape = (n_samples, n_classes)\n",
        "\n",
        "# 3) Compute multi-class ROC-AUC (one-vs-rest)\n",
        "roc_auc = roc_auc_score(y_test, y_proba, multi_class='ovr', average='weighted')\n",
        "\n",
        "print(\"Weighted Multi-class ROC-AUC:\", round(roc_auc, 4))"
      ]
    },
    {
      "cell_type": "code",
      "source": [
        "param_grid = {\n",
        "    'n_estimators': [500, 700],           # number of trees\n",
        "    'max_depth': [5, 7],                  # depth of each tree\n",
        "    'reg_alpha': [0, 0.01],               # L1 regularization\n",
        "    'reg_lambda': [1, 1.5],               # L2 regularization\n",
        "    'min_child_weight': [1, 3]            # minimum sum of instance weight needed in a child\n",
        "}\n",
        "\n",
        "xgb_model_cv = XGBClassifier(\n",
        "    objective='multi:softprob',\n",
        "    num_class=5,\n",
        "    eval_metric='mlogloss',\n",
        "    gamma=0,\n",
        "    subsample = 0.8,\n",
        "    learning_rate = 0.1,\n",
        "    colsample_bytree = 1.0,\n",
        "    random_state=42\n",
        ")\n",
        "\n",
        "grid_search = GridSearchCV(\n",
        "    estimator=xgb_model_cv,\n",
        "    param_grid=param_grid,\n",
        "    scoring='f1_weighted',   # weighted F1 for imbalanced data\n",
        "    cv=5,\n",
        "    verbose=2\n",
        ")\n",
        "\n",
        "grid_search.fit(X_train_res, y_train_res)\n",
        "\n",
        "print(\"Best parameters:\", grid_search.best_params_)\n",
        "print(\"Best weighted F1 score:\", grid_search.best_score_)\n"
      ],
      "metadata": {
        "colab": {
          "base_uri": "https://localhost:8080/"
        },
        "id": "QsHDHs9k0z_g",
        "outputId": "ad2dc98e-fe0f-42fb-8813-eaa783b38344"
      },
      "execution_count": null,
      "outputs": [
        {
          "output_type": "stream",
          "name": "stdout",
          "text": [
            "Fitting 5 folds for each of 32 candidates, totalling 160 fits\n",
            "[CV] END max_depth=5, min_child_weight=1, n_estimators=500, reg_alpha=0, reg_lambda=1; total time=  28.6s\n",
            "[CV] END max_depth=5, min_child_weight=1, n_estimators=500, reg_alpha=0, reg_lambda=1; total time=  24.4s\n",
            "[CV] END max_depth=5, min_child_weight=1, n_estimators=500, reg_alpha=0, reg_lambda=1; total time=  24.6s\n",
            "[CV] END max_depth=5, min_child_weight=1, n_estimators=500, reg_alpha=0, reg_lambda=1; total time=  22.1s\n",
            "[CV] END max_depth=5, min_child_weight=1, n_estimators=500, reg_alpha=0, reg_lambda=1; total time=  25.9s\n",
            "[CV] END max_depth=5, min_child_weight=1, n_estimators=500, reg_alpha=0, reg_lambda=1.5; total time=  24.7s\n",
            "[CV] END max_depth=5, min_child_weight=1, n_estimators=500, reg_alpha=0, reg_lambda=1.5; total time=  24.4s\n",
            "[CV] END max_depth=5, min_child_weight=1, n_estimators=500, reg_alpha=0, reg_lambda=1.5; total time=  24.4s\n",
            "[CV] END max_depth=5, min_child_weight=1, n_estimators=500, reg_alpha=0, reg_lambda=1.5; total time=  22.1s\n",
            "[CV] END max_depth=5, min_child_weight=1, n_estimators=500, reg_alpha=0, reg_lambda=1.5; total time=  24.4s\n",
            "[CV] END max_depth=5, min_child_weight=1, n_estimators=500, reg_alpha=0.01, reg_lambda=1; total time=  24.6s\n",
            "[CV] END max_depth=5, min_child_weight=1, n_estimators=500, reg_alpha=0.01, reg_lambda=1; total time=  24.3s\n",
            "[CV] END max_depth=5, min_child_weight=1, n_estimators=500, reg_alpha=0.01, reg_lambda=1; total time=  21.9s\n",
            "[CV] END max_depth=5, min_child_weight=1, n_estimators=500, reg_alpha=0.01, reg_lambda=1; total time=  24.5s\n",
            "[CV] END max_depth=5, min_child_weight=1, n_estimators=500, reg_alpha=0.01, reg_lambda=1; total time=  24.6s\n",
            "[CV] END max_depth=5, min_child_weight=1, n_estimators=500, reg_alpha=0.01, reg_lambda=1.5; total time=  24.6s\n",
            "[CV] END max_depth=5, min_child_weight=1, n_estimators=500, reg_alpha=0.01, reg_lambda=1.5; total time=  22.1s\n",
            "[CV] END max_depth=5, min_child_weight=1, n_estimators=500, reg_alpha=0.01, reg_lambda=1.5; total time=  24.4s\n",
            "[CV] END max_depth=5, min_child_weight=1, n_estimators=500, reg_alpha=0.01, reg_lambda=1.5; total time=  24.5s\n",
            "[CV] END max_depth=5, min_child_weight=1, n_estimators=500, reg_alpha=0.01, reg_lambda=1.5; total time=  24.4s\n",
            "[CV] END max_depth=5, min_child_weight=1, n_estimators=700, reg_alpha=0, reg_lambda=1; total time=  32.9s\n",
            "[CV] END max_depth=5, min_child_weight=1, n_estimators=700, reg_alpha=0, reg_lambda=1; total time=  35.3s\n",
            "[CV] END max_depth=5, min_child_weight=1, n_estimators=700, reg_alpha=0, reg_lambda=1; total time=  33.1s\n",
            "[CV] END max_depth=5, min_child_weight=1, n_estimators=700, reg_alpha=0, reg_lambda=1; total time=  35.5s\n",
            "[CV] END max_depth=5, min_child_weight=1, n_estimators=700, reg_alpha=0, reg_lambda=1; total time=  32.6s\n",
            "[CV] END max_depth=5, min_child_weight=1, n_estimators=700, reg_alpha=0, reg_lambda=1.5; total time=  35.4s\n",
            "[CV] END max_depth=5, min_child_weight=1, n_estimators=700, reg_alpha=0, reg_lambda=1.5; total time=  32.8s\n",
            "[CV] END max_depth=5, min_child_weight=1, n_estimators=700, reg_alpha=0, reg_lambda=1.5; total time=  35.2s\n",
            "[CV] END max_depth=5, min_child_weight=1, n_estimators=700, reg_alpha=0, reg_lambda=1.5; total time=  33.0s\n",
            "[CV] END max_depth=5, min_child_weight=1, n_estimators=700, reg_alpha=0, reg_lambda=1.5; total time=  35.3s\n",
            "[CV] END max_depth=5, min_child_weight=1, n_estimators=700, reg_alpha=0.01, reg_lambda=1; total time=  33.1s\n",
            "[CV] END max_depth=5, min_child_weight=1, n_estimators=700, reg_alpha=0.01, reg_lambda=1; total time=  34.9s\n",
            "[CV] END max_depth=5, min_child_weight=1, n_estimators=700, reg_alpha=0.01, reg_lambda=1; total time=  33.1s\n",
            "[CV] END max_depth=5, min_child_weight=1, n_estimators=700, reg_alpha=0.01, reg_lambda=1; total time=  34.5s\n",
            "[CV] END max_depth=5, min_child_weight=1, n_estimators=700, reg_alpha=0.01, reg_lambda=1; total time=  32.5s\n",
            "[CV] END max_depth=5, min_child_weight=1, n_estimators=700, reg_alpha=0.01, reg_lambda=1.5; total time=  35.1s\n",
            "[CV] END max_depth=5, min_child_weight=1, n_estimators=700, reg_alpha=0.01, reg_lambda=1.5; total time=  32.9s\n",
            "[CV] END max_depth=5, min_child_weight=1, n_estimators=700, reg_alpha=0.01, reg_lambda=1.5; total time=  35.5s\n",
            "[CV] END max_depth=5, min_child_weight=1, n_estimators=700, reg_alpha=0.01, reg_lambda=1.5; total time=  33.7s\n",
            "[CV] END max_depth=5, min_child_weight=1, n_estimators=700, reg_alpha=0.01, reg_lambda=1.5; total time=  35.1s\n",
            "[CV] END max_depth=5, min_child_weight=3, n_estimators=500, reg_alpha=0, reg_lambda=1; total time=  23.9s\n",
            "[CV] END max_depth=5, min_child_weight=3, n_estimators=500, reg_alpha=0, reg_lambda=1; total time=  23.0s\n",
            "[CV] END max_depth=5, min_child_weight=3, n_estimators=500, reg_alpha=0, reg_lambda=1; total time=  22.7s\n",
            "[CV] END max_depth=5, min_child_weight=3, n_estimators=500, reg_alpha=0, reg_lambda=1; total time=  24.1s\n",
            "[CV] END max_depth=5, min_child_weight=3, n_estimators=500, reg_alpha=0, reg_lambda=1; total time=  23.9s\n",
            "[CV] END max_depth=5, min_child_weight=3, n_estimators=500, reg_alpha=0, reg_lambda=1.5; total time=  21.5s\n",
            "[CV] END max_depth=5, min_child_weight=3, n_estimators=500, reg_alpha=0, reg_lambda=1.5; total time=  23.9s\n",
            "[CV] END max_depth=5, min_child_weight=3, n_estimators=500, reg_alpha=0, reg_lambda=1.5; total time=  24.1s\n",
            "[CV] END max_depth=5, min_child_weight=3, n_estimators=500, reg_alpha=0, reg_lambda=1.5; total time=  24.1s\n",
            "[CV] END max_depth=5, min_child_weight=3, n_estimators=500, reg_alpha=0, reg_lambda=1.5; total time=  21.4s\n",
            "[CV] END max_depth=5, min_child_weight=3, n_estimators=500, reg_alpha=0.01, reg_lambda=1; total time=  23.8s\n",
            "[CV] END max_depth=5, min_child_weight=3, n_estimators=500, reg_alpha=0.01, reg_lambda=1; total time=  24.1s\n",
            "[CV] END max_depth=5, min_child_weight=3, n_estimators=500, reg_alpha=0.01, reg_lambda=1; total time=  22.7s\n",
            "[CV] END max_depth=5, min_child_weight=3, n_estimators=500, reg_alpha=0.01, reg_lambda=1; total time=  22.6s\n",
            "[CV] END max_depth=5, min_child_weight=3, n_estimators=500, reg_alpha=0.01, reg_lambda=1; total time=  23.8s\n",
            "[CV] END max_depth=5, min_child_weight=3, n_estimators=500, reg_alpha=0.01, reg_lambda=1.5; total time=  23.7s\n",
            "[CV] END max_depth=5, min_child_weight=3, n_estimators=500, reg_alpha=0.01, reg_lambda=1.5; total time=  21.6s\n",
            "[CV] END max_depth=5, min_child_weight=3, n_estimators=500, reg_alpha=0.01, reg_lambda=1.5; total time=  23.7s\n",
            "[CV] END max_depth=5, min_child_weight=3, n_estimators=500, reg_alpha=0.01, reg_lambda=1.5; total time=  23.7s\n",
            "[CV] END max_depth=5, min_child_weight=3, n_estimators=500, reg_alpha=0.01, reg_lambda=1.5; total time=  21.6s\n",
            "[CV] END max_depth=5, min_child_weight=3, n_estimators=700, reg_alpha=0, reg_lambda=1; total time=  33.3s\n",
            "[CV] END max_depth=5, min_child_weight=3, n_estimators=700, reg_alpha=0, reg_lambda=1; total time=  31.6s\n",
            "[CV] END max_depth=5, min_child_weight=3, n_estimators=700, reg_alpha=0, reg_lambda=1; total time=  34.0s\n",
            "[CV] END max_depth=5, min_child_weight=3, n_estimators=700, reg_alpha=0, reg_lambda=1; total time=  31.8s\n",
            "[CV] END max_depth=5, min_child_weight=3, n_estimators=700, reg_alpha=0, reg_lambda=1; total time=  34.1s\n",
            "[CV] END max_depth=5, min_child_weight=3, n_estimators=700, reg_alpha=0, reg_lambda=1.5; total time=  31.8s\n",
            "[CV] END max_depth=5, min_child_weight=3, n_estimators=700, reg_alpha=0, reg_lambda=1.5; total time=  32.2s\n",
            "[CV] END max_depth=5, min_child_weight=3, n_estimators=700, reg_alpha=0, reg_lambda=1.5; total time=  32.8s\n",
            "[CV] END max_depth=5, min_child_weight=3, n_estimators=700, reg_alpha=0, reg_lambda=1.5; total time=  31.8s\n",
            "[CV] END max_depth=5, min_child_weight=3, n_estimators=700, reg_alpha=0, reg_lambda=1.5; total time=  34.3s\n",
            "[CV] END max_depth=5, min_child_weight=3, n_estimators=700, reg_alpha=0.01, reg_lambda=1; total time=  32.4s\n",
            "[CV] END max_depth=5, min_child_weight=3, n_estimators=700, reg_alpha=0.01, reg_lambda=1; total time=  34.7s\n",
            "[CV] END max_depth=5, min_child_weight=3, n_estimators=700, reg_alpha=0.01, reg_lambda=1; total time=  32.1s\n",
            "[CV] END max_depth=5, min_child_weight=3, n_estimators=700, reg_alpha=0.01, reg_lambda=1; total time=  33.6s\n",
            "[CV] END max_depth=5, min_child_weight=3, n_estimators=700, reg_alpha=0.01, reg_lambda=1; total time=  32.8s\n",
            "[CV] END max_depth=5, min_child_weight=3, n_estimators=700, reg_alpha=0.01, reg_lambda=1.5; total time=  32.1s\n",
            "[CV] END max_depth=5, min_child_weight=3, n_estimators=700, reg_alpha=0.01, reg_lambda=1.5; total time=  34.6s\n",
            "[CV] END max_depth=5, min_child_weight=3, n_estimators=700, reg_alpha=0.01, reg_lambda=1.5; total time=  32.1s\n",
            "[CV] END max_depth=5, min_child_weight=3, n_estimators=700, reg_alpha=0.01, reg_lambda=1.5; total time=  34.5s\n",
            "[CV] END max_depth=5, min_child_weight=3, n_estimators=700, reg_alpha=0.01, reg_lambda=1.5; total time=  33.1s\n",
            "[CV] END max_depth=7, min_child_weight=1, n_estimators=500, reg_alpha=0, reg_lambda=1; total time=  34.5s\n",
            "[CV] END max_depth=7, min_child_weight=1, n_estimators=500, reg_alpha=0, reg_lambda=1; total time=  32.5s\n",
            "[CV] END max_depth=7, min_child_weight=1, n_estimators=500, reg_alpha=0, reg_lambda=1; total time=  34.8s\n",
            "[CV] END max_depth=7, min_child_weight=1, n_estimators=500, reg_alpha=0, reg_lambda=1; total time=  32.5s\n",
            "[CV] END max_depth=7, min_child_weight=1, n_estimators=500, reg_alpha=0, reg_lambda=1; total time=  35.0s\n",
            "[CV] END max_depth=7, min_child_weight=1, n_estimators=500, reg_alpha=0, reg_lambda=1.5; total time=  32.0s\n",
            "[CV] END max_depth=7, min_child_weight=1, n_estimators=500, reg_alpha=0, reg_lambda=1.5; total time=  34.8s\n",
            "[CV] END max_depth=7, min_child_weight=1, n_estimators=500, reg_alpha=0, reg_lambda=1.5; total time=  32.4s\n",
            "[CV] END max_depth=7, min_child_weight=1, n_estimators=500, reg_alpha=0, reg_lambda=1.5; total time=  34.9s\n",
            "[CV] END max_depth=7, min_child_weight=1, n_estimators=500, reg_alpha=0, reg_lambda=1.5; total time=  32.4s\n",
            "[CV] END max_depth=7, min_child_weight=1, n_estimators=500, reg_alpha=0.01, reg_lambda=1; total time=  34.1s\n",
            "[CV] END max_depth=7, min_child_weight=1, n_estimators=500, reg_alpha=0.01, reg_lambda=1; total time=  32.2s\n",
            "[CV] END max_depth=7, min_child_weight=1, n_estimators=500, reg_alpha=0.01, reg_lambda=1; total time=  33.0s\n",
            "[CV] END max_depth=7, min_child_weight=1, n_estimators=500, reg_alpha=0.01, reg_lambda=1; total time=  33.0s\n",
            "[CV] END max_depth=7, min_child_weight=1, n_estimators=500, reg_alpha=0.01, reg_lambda=1; total time=  31.6s\n",
            "[CV] END max_depth=7, min_child_weight=1, n_estimators=500, reg_alpha=0.01, reg_lambda=1.5; total time=  34.2s\n",
            "[CV] END max_depth=7, min_child_weight=1, n_estimators=500, reg_alpha=0.01, reg_lambda=1.5; total time=  32.5s\n",
            "[CV] END max_depth=7, min_child_weight=1, n_estimators=500, reg_alpha=0.01, reg_lambda=1.5; total time=  35.0s\n",
            "[CV] END max_depth=7, min_child_weight=1, n_estimators=500, reg_alpha=0.01, reg_lambda=1.5; total time=  32.3s\n",
            "[CV] END max_depth=7, min_child_weight=1, n_estimators=500, reg_alpha=0.01, reg_lambda=1.5; total time=  34.7s\n",
            "[CV] END max_depth=7, min_child_weight=1, n_estimators=700, reg_alpha=0, reg_lambda=1; total time=  44.2s\n",
            "[CV] END max_depth=7, min_child_weight=1, n_estimators=700, reg_alpha=0, reg_lambda=1; total time=  44.6s\n",
            "[CV] END max_depth=7, min_child_weight=1, n_estimators=700, reg_alpha=0, reg_lambda=1; total time=  46.7s\n",
            "[CV] END max_depth=7, min_child_weight=1, n_estimators=700, reg_alpha=0, reg_lambda=1; total time=  44.6s\n",
            "[CV] END max_depth=7, min_child_weight=1, n_estimators=700, reg_alpha=0, reg_lambda=1; total time=  45.1s\n",
            "[CV] END max_depth=7, min_child_weight=1, n_estimators=700, reg_alpha=0, reg_lambda=1.5; total time=  46.3s\n",
            "[CV] END max_depth=7, min_child_weight=1, n_estimators=700, reg_alpha=0, reg_lambda=1.5; total time=  50.5s\n",
            "[CV] END max_depth=7, min_child_weight=1, n_estimators=700, reg_alpha=0, reg_lambda=1.5; total time=  47.1s\n",
            "[CV] END max_depth=7, min_child_weight=1, n_estimators=700, reg_alpha=0, reg_lambda=1.5; total time=  45.5s\n",
            "[CV] END max_depth=7, min_child_weight=1, n_estimators=700, reg_alpha=0, reg_lambda=1.5; total time=  47.4s\n",
            "[CV] END max_depth=7, min_child_weight=1, n_estimators=700, reg_alpha=0.01, reg_lambda=1; total time=  44.4s\n",
            "[CV] END max_depth=7, min_child_weight=1, n_estimators=700, reg_alpha=0.01, reg_lambda=1; total time=  45.7s\n",
            "[CV] END max_depth=7, min_child_weight=1, n_estimators=700, reg_alpha=0.01, reg_lambda=1; total time=  46.1s\n",
            "[CV] END max_depth=7, min_child_weight=1, n_estimators=700, reg_alpha=0.01, reg_lambda=1; total time=  44.9s\n",
            "[CV] END max_depth=7, min_child_weight=1, n_estimators=700, reg_alpha=0.01, reg_lambda=1; total time=  45.6s\n",
            "[CV] END max_depth=7, min_child_weight=1, n_estimators=700, reg_alpha=0.01, reg_lambda=1.5; total time=  45.8s\n",
            "[CV] END max_depth=7, min_child_weight=1, n_estimators=700, reg_alpha=0.01, reg_lambda=1.5; total time=  45.0s\n",
            "[CV] END max_depth=7, min_child_weight=1, n_estimators=700, reg_alpha=0.01, reg_lambda=1.5; total time=  47.8s\n",
            "[CV] END max_depth=7, min_child_weight=1, n_estimators=700, reg_alpha=0.01, reg_lambda=1.5; total time=  45.0s\n",
            "[CV] END max_depth=7, min_child_weight=1, n_estimators=700, reg_alpha=0.01, reg_lambda=1.5; total time=  46.9s\n",
            "[CV] END max_depth=7, min_child_weight=3, n_estimators=500, reg_alpha=0, reg_lambda=1; total time=  29.5s\n",
            "[CV] END max_depth=7, min_child_weight=3, n_estimators=500, reg_alpha=0, reg_lambda=1; total time=  29.9s\n",
            "[CV] END max_depth=7, min_child_weight=3, n_estimators=500, reg_alpha=0, reg_lambda=1; total time=  30.2s\n",
            "[CV] END max_depth=7, min_child_weight=3, n_estimators=500, reg_alpha=0, reg_lambda=1; total time=  32.2s\n",
            "[CV] END max_depth=7, min_child_weight=3, n_estimators=500, reg_alpha=0, reg_lambda=1; total time=  29.8s\n",
            "[CV] END max_depth=7, min_child_weight=3, n_estimators=500, reg_alpha=0, reg_lambda=1.5; total time=  29.8s\n",
            "[CV] END max_depth=7, min_child_weight=3, n_estimators=500, reg_alpha=0, reg_lambda=1.5; total time=  30.1s\n",
            "[CV] END max_depth=7, min_child_weight=3, n_estimators=500, reg_alpha=0, reg_lambda=1.5; total time=  32.2s\n",
            "[CV] END max_depth=7, min_child_weight=3, n_estimators=500, reg_alpha=0, reg_lambda=1.5; total time=  29.9s\n",
            "[CV] END max_depth=7, min_child_weight=3, n_estimators=500, reg_alpha=0, reg_lambda=1.5; total time=  29.7s\n",
            "[CV] END max_depth=7, min_child_weight=3, n_estimators=500, reg_alpha=0.01, reg_lambda=1; total time=  29.6s\n",
            "[CV] END max_depth=7, min_child_weight=3, n_estimators=500, reg_alpha=0.01, reg_lambda=1; total time=  32.1s\n",
            "[CV] END max_depth=7, min_child_weight=3, n_estimators=500, reg_alpha=0.01, reg_lambda=1; total time=  30.2s\n",
            "[CV] END max_depth=7, min_child_weight=3, n_estimators=500, reg_alpha=0.01, reg_lambda=1; total time=  34.5s\n",
            "[CV] END max_depth=7, min_child_weight=3, n_estimators=500, reg_alpha=0.01, reg_lambda=1; total time=  30.8s\n",
            "[CV] END max_depth=7, min_child_weight=3, n_estimators=500, reg_alpha=0.01, reg_lambda=1.5; total time=  29.7s\n",
            "[CV] END max_depth=7, min_child_weight=3, n_estimators=500, reg_alpha=0.01, reg_lambda=1.5; total time=  29.7s\n",
            "[CV] END max_depth=7, min_child_weight=3, n_estimators=500, reg_alpha=0.01, reg_lambda=1.5; total time=  32.3s\n",
            "[CV] END max_depth=7, min_child_weight=3, n_estimators=500, reg_alpha=0.01, reg_lambda=1.5; total time=  30.8s\n",
            "[CV] END max_depth=7, min_child_weight=3, n_estimators=500, reg_alpha=0.01, reg_lambda=1.5; total time=  29.9s\n",
            "[CV] END max_depth=7, min_child_weight=3, n_estimators=700, reg_alpha=0, reg_lambda=1; total time=  40.9s\n",
            "[CV] END max_depth=7, min_child_weight=3, n_estimators=700, reg_alpha=0, reg_lambda=1; total time=  41.7s\n",
            "[CV] END max_depth=7, min_child_weight=3, n_estimators=700, reg_alpha=0, reg_lambda=1; total time=  41.9s\n",
            "[CV] END max_depth=7, min_child_weight=3, n_estimators=700, reg_alpha=0, reg_lambda=1; total time=  42.9s\n",
            "[CV] END max_depth=7, min_child_weight=3, n_estimators=700, reg_alpha=0, reg_lambda=1; total time=  41.7s\n",
            "[CV] END max_depth=7, min_child_weight=3, n_estimators=700, reg_alpha=0, reg_lambda=1.5; total time=  41.0s\n",
            "[CV] END max_depth=7, min_child_weight=3, n_estimators=700, reg_alpha=0, reg_lambda=1.5; total time=  41.9s\n",
            "[CV] END max_depth=7, min_child_weight=3, n_estimators=700, reg_alpha=0, reg_lambda=1.5; total time=  42.3s\n",
            "[CV] END max_depth=7, min_child_weight=3, n_estimators=700, reg_alpha=0, reg_lambda=1.5; total time=  42.3s\n",
            "[CV] END max_depth=7, min_child_weight=3, n_estimators=700, reg_alpha=0, reg_lambda=1.5; total time=  41.8s\n",
            "[CV] END max_depth=7, min_child_weight=3, n_estimators=700, reg_alpha=0.01, reg_lambda=1; total time=  41.2s\n",
            "[CV] END max_depth=7, min_child_weight=3, n_estimators=700, reg_alpha=0.01, reg_lambda=1; total time=  42.2s\n",
            "[CV] END max_depth=7, min_child_weight=3, n_estimators=700, reg_alpha=0.01, reg_lambda=1; total time=  43.6s\n",
            "[CV] END max_depth=7, min_child_weight=3, n_estimators=700, reg_alpha=0.01, reg_lambda=1; total time=  41.9s\n",
            "[CV] END max_depth=7, min_child_weight=3, n_estimators=700, reg_alpha=0.01, reg_lambda=1; total time=  41.6s\n",
            "[CV] END max_depth=7, min_child_weight=3, n_estimators=700, reg_alpha=0.01, reg_lambda=1.5; total time=  41.3s\n",
            "[CV] END max_depth=7, min_child_weight=3, n_estimators=700, reg_alpha=0.01, reg_lambda=1.5; total time=  41.8s\n",
            "[CV] END max_depth=7, min_child_weight=3, n_estimators=700, reg_alpha=0.01, reg_lambda=1.5; total time=  42.0s\n",
            "[CV] END max_depth=7, min_child_weight=3, n_estimators=700, reg_alpha=0.01, reg_lambda=1.5; total time=  41.9s\n",
            "[CV] END max_depth=7, min_child_weight=3, n_estimators=700, reg_alpha=0.01, reg_lambda=1.5; total time=  42.4s\n",
            "Best parameters: {'max_depth': 7, 'min_child_weight': 1, 'n_estimators': 700, 'reg_alpha': 0, 'reg_lambda': 1}\n",
            "Best weighted F1 score: 0.9714281144456833\n"
          ]
        }
      ]
    },
    {
      "cell_type": "code",
      "source": [
        "# === 3) Make predictions ===\n",
        "best_model  = grid_search.best_estimator_\n",
        "y_pred = best_model.predict(X_test)\n",
        "# === 4) Evaluate the model ===\n",
        "accuracy = accuracy_score(y_test, y_pred)\n",
        "f1 = f1_score(y_test, y_pred, average='weighted')\n",
        "precision = precision_score(y_test, y_pred, average='weighted')\n",
        "recall = recall_score(y_test, y_pred, average='weighted')\n",
        "\n",
        "print(\"XGBoost Classification Metrics:\")\n",
        "print(f\"Accuracy : {accuracy:.4f}\")\n",
        "print(f\"F1 Score : {f1:.4f}\")\n",
        "print(f\"Precision: {precision:.4f}\")\n",
        "print(f\"Recall: {recall:.4f}\")"
      ],
      "metadata": {
        "colab": {
          "base_uri": "https://localhost:8080/"
        },
        "id": "7l2QtZGNtKjL",
        "outputId": "0b2f66b2-079b-4a1d-f619-bbc800f67c2e"
      },
      "execution_count": null,
      "outputs": [
        {
          "output_type": "stream",
          "name": "stdout",
          "text": [
            "XGBoost Classification Metrics:\n",
            "Accuracy : 0.9342\n",
            "F1 Score : 0.9306\n",
            "Precision: 0.9319\n",
            "Recall: 0.9342\n"
          ]
        }
      ]
    },
    {
      "cell_type": "code",
      "source": [
        "# Predict probabilities for test set\n",
        "y_proba = best_model.predict_proba(X_test)  # shape = (n_samples, n_classes)\n",
        "\n",
        "# 3) Compute multi-class ROC-AUC (one-vs-rest)\n",
        "roc_auc = roc_auc_score(y_test, y_proba, multi_class='ovr', average='weighted')\n",
        "\n",
        "print(\"Weighted Multi-class ROC-AUC:\", round(roc_auc, 4))"
      ],
      "metadata": {
        "colab": {
          "base_uri": "https://localhost:8080/"
        },
        "id": "Ps8Q0VMDtjP-",
        "outputId": "09aecfd1-1ae1-4ea1-d689-85a7dbc2749c"
      },
      "execution_count": null,
      "outputs": [
        {
          "output_type": "stream",
          "name": "stdout",
          "text": [
            "Weighted Multi-class ROC-AUC: 0.9695\n"
          ]
        }
      ]
    }
  ],
  "metadata": {
    "colab": {
      "provenance": []
    },
    "kernelspec": {
      "display_name": "Python 3",
      "name": "python3"
    },
    "language_info": {
      "name": "python"
    }
  },
  "nbformat": 4,
  "nbformat_minor": 0
}